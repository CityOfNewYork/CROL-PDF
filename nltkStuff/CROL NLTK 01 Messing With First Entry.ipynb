{
 "metadata": {
  "name": "",
  "signature": "sha256:4127192d6b70ba516a0056657c8acf1126135287f90fe1a7bcc9e76529ab3419"
 },
 "nbformat": 3,
 "nbformat_minor": 0,
 "worksheets": [
  {
   "cells": [
    {
     "cell_type": "code",
     "collapsed": false,
     "input": [
      "import pandas as pd\n",
      "import nltk\n",
      "from nltk.util import ngrams\n",
      "nltk.download('punkt')\n",
      "nltk.download('stopwords')\n",
      "\n",
      "#Importing the dataset\n",
      "%cd C:\\Users\\Matt\\Dropbox\\Python Workspace\\CROW\\CROL-PDF\n",
      "data = pd.read_csv(\"procPublicationRequest_Oct-Dec_2014_clean - procPublicationRequest_Oct-Dec_2014_clean.csv\")\n",
      "\n",
      "#Snagging the \"human_readable\" column\n",
      "human_readableList = list(data['human_readable'])\n",
      "\n",
      "#Turn the values into strings\n",
      "strReadable = [str(a) for a in human_readableList]\n",
      "\n",
      "#Split into individual words\n",
      "listOfLists = [a.split() for a in strReadable]"
     ],
     "language": "python",
     "metadata": {},
     "outputs": [
      {
       "output_type": "stream",
       "stream": "stdout",
       "text": [
        "[nltk_data] Downloading package punkt to\n",
        "[nltk_data]     C:\\Users\\Matt\\AppData\\Roaming\\nltk_data...\n",
        "[nltk_data]   Package punkt is already up-to-date!\n",
        "[nltk_data] Downloading package stopwords to\n",
        "[nltk_data]     C:\\Users\\Matt\\AppData\\Roaming\\nltk_data...\n",
        "[nltk_data]   Package stopwords is already up-to-date!\n",
        "C:\\Users\\Matt\\Dropbox\\Python Workspace\\CROW\\CROL-PDF"
       ]
      },
      {
       "output_type": "stream",
       "stream": "stdout",
       "text": [
        "\n"
       ]
      }
     ],
     "prompt_number": 4
    },
    {
     "cell_type": "code",
     "collapsed": false,
     "input": [
      "#Let's see an entry!\n",
      "strReadable[0]\n",
      "#It's a giant mess of text!"
     ],
     "language": "python",
     "metadata": {},
     "outputs": [
      {
       "metadata": {},
       "output_type": "pyout",
       "prompt_number": 5,
       "text": [
        "'OWNERS ARE WANTED BY THE PROPERTY CLERK DIVISION OF THE NEW YORK CITY POLICE DEPARTMENT.  The following listed property is in the custody, of the Property Clerk Division without claimants. Recovered, lost, abandoned property, obtained from prisoners, emotionally disturbed, intoxicated and deceased persons; and property obtained from persons incapable of caring for themselves.  Motor vehicles, boats, bicycles, business machines, cameras, calculating machines, electrical and optical property, furniture, furs, handbags, hardware, jewelry, photographic equipment, radios, robes, sound systems, surgical and musical instruments, tools, wearing apparel, communications equipment, computers, and other miscellaneous articles. INQUIRIES  Inquiries relating to such property should be made in the Borough concerned, at the following office of the Property Clerk. FOR MOTOR VEHICLES(All Boroughs):  Springfield Gardens Auto Pound, 174-20 North Boundary Road, Queens, NY 11430, (718) 553-9555  Erie Basin Auto Pound, 700 Columbia Street, Brooklyn, NY 11231, (718) 246-2030 FOR ALL OTHER PROPERTY  Manhattan - 1 Police Plaza, New York, NY 10038, (646) 610-5906  Brooklyn - 84th Precinct, 301 Gold Street, Brooklyn, NY 11201, (718) 875-6675  Bronx Property Clerk - 215 East 161 Street, Bronx, NY 10451, (718) 590-2806  Queens Property Clerk - 47-07 Pearson Place, Long Island City, NY 11101, (718) 433-2678  Staten Island Property Clerk - 1 Edgewater Plaza, Staten Island, NY 10301, (718) 876-8484'"
       ]
      }
     ],
     "prompt_number": 5
    },
    {
     "cell_type": "code",
     "collapsed": false,
     "input": [
      "#Here's what happens when we tokenize with NLTK\n",
      "firstEntryTokenized = nltk.word_tokenize(strReadable[0])\n",
      "#It splits it into a list of individual words\n",
      "firstEntryTokenized[:50]"
     ],
     "language": "python",
     "metadata": {},
     "outputs": [
      {
       "metadata": {},
       "output_type": "pyout",
       "prompt_number": 21,
       "text": [
        "['OWNERS',\n",
        " 'ARE',\n",
        " 'WANTED',\n",
        " 'BY',\n",
        " 'THE',\n",
        " 'PROPERTY',\n",
        " 'CLERK',\n",
        " 'DIVISION',\n",
        " 'OF',\n",
        " 'THE',\n",
        " 'NEW',\n",
        " 'YORK',\n",
        " 'CITY',\n",
        " 'POLICE',\n",
        " 'DEPARTMENT',\n",
        " '.',\n",
        " 'The',\n",
        " 'following',\n",
        " 'listed',\n",
        " 'property',\n",
        " 'is',\n",
        " 'in',\n",
        " 'the',\n",
        " 'custody',\n",
        " ',',\n",
        " 'of',\n",
        " 'the',\n",
        " 'Property',\n",
        " 'Clerk',\n",
        " 'Division',\n",
        " 'without',\n",
        " 'claimants',\n",
        " '.',\n",
        " 'Recovered',\n",
        " ',',\n",
        " 'lost',\n",
        " ',',\n",
        " 'abandoned',\n",
        " 'property',\n",
        " ',',\n",
        " 'obtained',\n",
        " 'from',\n",
        " 'prisoners',\n",
        " ',',\n",
        " 'emotionally',\n",
        " 'disturbed',\n",
        " ',',\n",
        " 'intoxicated',\n",
        " 'and',\n",
        " 'deceased']"
       ]
      }
     ],
     "prompt_number": 21
    },
    {
     "cell_type": "code",
     "collapsed": false,
     "input": [
      "#We can use some special functions if we then convert this into NLTK's special Text format\n",
      "firstEntryText = nltk.Text(firstEntryTokenized)"
     ],
     "language": "python",
     "metadata": {},
     "outputs": [],
     "prompt_number": 9
    },
    {
     "cell_type": "code",
     "collapsed": false,
     "input": [
      "#For instance, we can get a list of the most common words along with how often they show up\n",
      "firstEntryFreqDist = nltk.FreqDist(firstEntryText)"
     ],
     "language": "python",
     "metadata": {},
     "outputs": [],
     "prompt_number": 10
    },
    {
     "cell_type": "code",
     "collapsed": false,
     "input": [
      "#Let's see the 10 most common words!\n",
      "firstEntryFreqDist.most_common(10)"
     ],
     "language": "python",
     "metadata": {},
     "outputs": [
      {
       "metadata": {},
       "output_type": "pyout",
       "prompt_number": 14,
       "text": [
        "[(',', 52),\n",
        " (')', 8),\n",
        " ('(', 8),\n",
        " ('NY', 7),\n",
        " ('718', 6),\n",
        " ('Property', 5),\n",
        " ('Clerk', 5),\n",
        " ('property', 5),\n",
        " ('the', 5),\n",
        " ('-', 5)]"
       ]
      }
     ],
     "prompt_number": 14
    },
    {
     "cell_type": "code",
     "collapsed": false,
     "input": [
      "#We can also search for phrases of different lengths\n",
      "firstEntryBigrams = list(ngrams(firstEntryTokenized,2))\n",
      "firstEntryBigrams[:50]"
     ],
     "language": "python",
     "metadata": {},
     "outputs": [
      {
       "metadata": {},
       "output_type": "pyout",
       "prompt_number": 24,
       "text": [
        "[('OWNERS', 'ARE'),\n",
        " ('ARE', 'WANTED'),\n",
        " ('WANTED', 'BY'),\n",
        " ('BY', 'THE'),\n",
        " ('THE', 'PROPERTY'),\n",
        " ('PROPERTY', 'CLERK'),\n",
        " ('CLERK', 'DIVISION'),\n",
        " ('DIVISION', 'OF'),\n",
        " ('OF', 'THE'),\n",
        " ('THE', 'NEW'),\n",
        " ('NEW', 'YORK'),\n",
        " ('YORK', 'CITY'),\n",
        " ('CITY', 'POLICE'),\n",
        " ('POLICE', 'DEPARTMENT'),\n",
        " ('DEPARTMENT', '.'),\n",
        " ('.', 'The'),\n",
        " ('The', 'following'),\n",
        " ('following', 'listed'),\n",
        " ('listed', 'property'),\n",
        " ('property', 'is'),\n",
        " ('is', 'in'),\n",
        " ('in', 'the'),\n",
        " ('the', 'custody'),\n",
        " ('custody', ','),\n",
        " (',', 'of'),\n",
        " ('of', 'the'),\n",
        " ('the', 'Property'),\n",
        " ('Property', 'Clerk'),\n",
        " ('Clerk', 'Division'),\n",
        " ('Division', 'without'),\n",
        " ('without', 'claimants'),\n",
        " ('claimants', '.'),\n",
        " ('.', 'Recovered'),\n",
        " ('Recovered', ','),\n",
        " (',', 'lost'),\n",
        " ('lost', ','),\n",
        " (',', 'abandoned'),\n",
        " ('abandoned', 'property'),\n",
        " ('property', ','),\n",
        " (',', 'obtained'),\n",
        " ('obtained', 'from'),\n",
        " ('from', 'prisoners'),\n",
        " ('prisoners', ','),\n",
        " (',', 'emotionally'),\n",
        " ('emotionally', 'disturbed'),\n",
        " ('disturbed', ','),\n",
        " (',', 'intoxicated'),\n",
        " ('intoxicated', 'and'),\n",
        " ('and', 'deceased'),\n",
        " ('deceased', 'persons')]"
       ]
      }
     ],
     "prompt_number": 24
    },
    {
     "cell_type": "code",
     "collapsed": false,
     "input": [
      "#And frequencies of phrases!\n",
      "firstEntryFreq= nltk.FreqDist(firstEntryBigrams)\n",
      "firstEntryFreq.most_common(50)"
     ],
     "language": "python",
     "metadata": {},
     "outputs": [
      {
       "metadata": {},
       "output_type": "pyout",
       "prompt_number": 23,
       "text": [
        "[((',', '('), 7),\n",
        " ((',', 'NY'), 7),\n",
        " (('(', '718'), 6),\n",
        " (('718', ')'), 6),\n",
        " (('Property', 'Clerk'), 5),\n",
        " (('Clerk', '-'), 3),\n",
        " (('Street', ','), 3),\n",
        " ((',', 'Brooklyn'), 2),\n",
        " (('Staten', 'Island'), 2),\n",
        " (('obtained', 'from'), 2),\n",
        " (('Brooklyn', ','), 2),\n",
        " (('machines', ','), 2),\n",
        " (('equipment', ','), 2),\n",
        " (('in', 'the'), 2),\n",
        " (('of', 'the'), 2),\n",
        " (('property', ','), 2),\n",
        " (('Auto', 'Pound'), 2),\n",
        " (('the', 'Property'), 2),\n",
        " (('Plaza', ','), 2),\n",
        " (('-', '1'), 2),\n",
        " (('Pound', ','), 2),\n",
        " ((',', 'hardware'), 1),\n",
        " (('jewelry', ','), 1),\n",
        " (('MOTOR', 'VEHICLES'), 1),\n",
        " (('11430', ','), 1),\n",
        " (('East', '161'), 1),\n",
        " (('property', 'obtained'), 1),\n",
        " ((',', '700'), 1),\n",
        " ((')', '433-2678'), 1),\n",
        " (('bicycles', ','), 1),\n",
        " (('persons', 'incapable'), 1),\n",
        " ((')', '246-2030'), 1),\n",
        " ((')', '553-9555'), 1),\n",
        " (('and', 'property'), 1),\n",
        " (('electrical', 'and'), 1),\n",
        " (('NY', '11101'), 1),\n",
        " (('sound', 'systems'), 1),\n",
        " (('.', 'The'), 1),\n",
        " (('York', ','), 1),\n",
        " (('musical', 'instruments'), 1),\n",
        " (('Clerk', 'Division'), 1),\n",
        " (('433-2678', 'Staten'), 1),\n",
        " (('CITY', 'POLICE'), 1),\n",
        " (('business', 'machines'), 1),\n",
        " (('Place', ','), 1),\n",
        " (('at', 'the'), 1),\n",
        " (('be', 'made'), 1),\n",
        " (('Queens', ','), 1),\n",
        " (('should', 'be'), 1),\n",
        " (('OF', 'THE'), 1)]"
       ]
      }
     ],
     "prompt_number": 23
    },
    {
     "cell_type": "code",
     "collapsed": false,
     "input": [],
     "language": "python",
     "metadata": {},
     "outputs": []
    }
   ],
   "metadata": {}
  }
 ]
}